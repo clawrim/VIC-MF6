{
 "cells": [
  {
   "cell_type": "markdown",
   "id": "7c30df24-c9fe-4bf8-af9c-2ef143dccf84",
   "metadata": {},
   "source": [
    "## Imports"
   ]
  },
  {
   "cell_type": "code",
   "execution_count": 2,
   "id": "c7c48b1b-1d6b-4b1f-942c-eec50fb26be9",
   "metadata": {},
   "outputs": [
    {
     "name": "stdout",
     "output_type": "stream",
     "text": [
      "3.12.8 (main, Dec  4 2024, 14:07:02) [GCC 14.2.0]\n",
      "numpy version: 1.26.4\n"
     ]
    }
   ],
   "source": [
    "import os\n",
    "import sys \n",
    "import numpy as np\n",
    "import pandas as pd\n",
    "import xarray as xr  # For NetCDF file handling\n",
    "from netCDF4 import Dataset  # Low-level NetCDF access if needed\n",
    "from modflowapi import ModflowApi  # For MODFLOW 6 API interaction\n",
    "import matplotlib.pyplot as plt  # For vis\n",
    "from datetime import datetime  # For time\n",
    "\n",
    "print(sys.version)\n",
    "print(f\"numpy version: {np.__version__}\")\n"
   ]
  },
  {
   "cell_type": "markdown",
   "id": "48c28798-f01c-4f68-a60d-e6ad3d5c03de",
   "metadata": {},
   "source": [
    "## Paths"
   ]
  },
  {
   "cell_type": "code",
   "execution_count": 3,
   "id": "23617753-8b8f-4219-82b9-26207dc77503",
   "metadata": {},
   "outputs": [],
   "source": [
    "mf6_model = \"../../MF6/rgtihm/model\"\n",
    "vic_root = \"../../VIC/nmhydro-master/scripts/vic_classic_to_image/nm_image\"\n",
    "global_param_file = os.path.join(vic_root, \"global_param.txt\")  ## vic global parameters file (it specifies all I/O files)"
   ]
  },
  {
   "cell_type": "markdown",
   "id": "a2e63eb6-d26d-4989-afe4-7c3f981244ff",
   "metadata": {},
   "source": [
    "## Functions"
   ]
  },
  {
   "cell_type": "code",
   "execution_count": 4,
   "id": "b7fc5401-6212-4a15-9ce2-f262c34c0b32",
   "metadata": {},
   "outputs": [],
   "source": [
    "# Cell 3: Generic VIC State Functions\n",
    "\n",
    "def read_vic_state(file_path=None, global_param_file=None, variables=None):\n",
    "    \"\"\"\n",
    "    Read a VIC NetCDF state file and print summary information.\n",
    "    \n",
    "    Parameters:\n",
    "    - file_path (str, optional): Direct path to the state file. If None, derived from global_param_file.\n",
    "    - global_param_file (str, optional): Path to VIC global parameter file to locate state file.\n",
    "    - variables (list, optional): List of variable names to extract. If None, reads all.\n",
    "    \n",
    "    Returns:\n",
    "    - xr.Dataset: VIC state data.\n",
    "    \"\"\"\n",
    "    # Determine state file path\n",
    "    if file_path is None and global_param_file is not None:\n",
    "        state_prefix = None\n",
    "        state_year, state_month, state_day = None, None, None\n",
    "        with open(global_param_file, 'r') as f:\n",
    "            for line in f:\n",
    "                if line.strip() and not line.startswith('#'):\n",
    "                    parts = line.split()\n",
    "                    if parts[0] == 'STATENAME':\n",
    "                        state_prefix = parts[1]\n",
    "                    elif parts[0] == 'STATEYEAR':\n",
    "                        state_year = parts[1]\n",
    "                    elif parts[0] == 'STATEMONTH':\n",
    "                        state_month = parts[1]\n",
    "                    elif parts[0] == 'STATEDAY':\n",
    "                        state_day = parts[1]\n",
    "        vic_root_dir = os.path.dirname(global_param_file)\n",
    "        state_date = f\"{state_year}{state_month.zfill(2)}{state_day.zfill(2)}\"\n",
    "        file_path = os.path.join(vic_root_dir, f\"{state_prefix}_{state_date}.nc\")\n",
    "    elif file_path is None:\n",
    "        raise ValueError(\"Must provide either file_path or global_param_file.\")\n",
    "\n",
    "    # Read the state file\n",
    "    try:\n",
    "        ds = xr.open_dataset(file_path)\n",
    "        if variables:\n",
    "            ds = ds[variables]\n",
    "        print(f\"\\nReading VIC state file: {file_path}\")\n",
    "        \n",
    "        # Summary information\n",
    "        num_variables = len(ds.variables)\n",
    "        print(f\"Number of variables read: {num_variables}\")\n",
    "        \n",
    "        # Unique lat/lon points\n",
    "        if 'lat' in ds.coords and 'lon' in ds.coords:\n",
    "            unique_points = len(ds['lat']) * len(ds['lon'])  # Assumes grid structure\n",
    "            print(f\"Number of unique lat/lon points: {unique_points}\")\n",
    "        else:\n",
    "            print(\"Coordinates 'lat' and 'lon' not found in dataset.\")\n",
    "        \n",
    "        # Daily state parameters summary\n",
    "        time_dim = 'time' if 'time' in ds.dims else None\n",
    "        if time_dim:\n",
    "            num_timesteps = len(ds[time_dim])\n",
    "            print(f\"Number of daily state timesteps: {num_timesteps}\")\n",
    "        else:\n",
    "            print(\"No time dimension found; assuming single state snapshot.\")\n",
    "        \n",
    "        # List variables for user awareness\n",
    "        print(\"Variables in state file:\", list(ds.variables.keys()))\n",
    "        return ds\n",
    "    \n",
    "    except FileNotFoundError:\n",
    "        print(f\"Error: State file {file_path} not found.\")\n",
    "        return None\n",
    "    except Exception as e:\n",
    "        print(f\"Error reading state file: {e}\")\n",
    "        return None\n",
    "\n",
    "def write_vic_state(data, file_path=None, global_param_file=None, modify_var=None, modify_coords=None, modify_values=None, overwrite=False):\n",
    "    \"\"\"\n",
    "    Write a VIC NetCDF state file, optionally modifying a variable for specific coordinates.\n",
    "    \n",
    "    Parameters:\n",
    "    - data (xr.Dataset): VIC state data to write.\n",
    "    - file_path (str, optional): Direct path to save the state file. If None, derived from global_param_file.\n",
    "    - global_param_file (str, optional): Path to VIC global parameter file for state file path.\n",
    "    - modify_var (str, optional): Variable name to modify (e.g., 'OUT_SOIL_MOIST').\n",
    "    - modify_coords (list of tuples, optional): List of (lat, lon) coordinates to modify.\n",
    "    - modify_values (array-like, optional): Values to set at modify_coords for modify_var.\n",
    "    - overwrite (bool): If True, overwrite existing file.\n",
    "    \n",
    "    Returns:\n",
    "    - None\n",
    "    \"\"\"\n",
    "    # Determine state file path\n",
    "    if file_path is None and global_param_file is not None:\n",
    "        state_prefix = None\n",
    "        state_year, state_month, state_day = None, None, None\n",
    "        with open(global_param_file, 'r') as f:\n",
    "            for line in f:\n",
    "                if line.strip() and not line.startswith('#'):\n",
    "                    parts = line.split()\n",
    "                    if parts[0] == 'STATENAME':\n",
    "                        state_prefix = parts[1]\n",
    "                    elif parts[0] == 'STATEYEAR':\n",
    "                        state_year = parts[1]\n",
    "                    elif parts[0] == 'STATEMONTH':\n",
    "                        state_month = parts[1]\n",
    "                    elif parts[0] == 'STATEDAY':\n",
    "                        state_day = parts[1]\n",
    "        vic_root_dir = os.path.dirname(global_param_file)\n",
    "        state_date = f\"{state_year}{state_month.zfill(2)}{state_day.zfill(2)}\"\n",
    "        file_path = os.path.join(vic_root_dir, f\"{state_prefix}_{state_date}.nc\")\n",
    "    elif file_path is None:\n",
    "        raise ValueError(\"Must provide either file_path or global_param_file.\")\n",
    "\n",
    "    # Modify data if requested\n",
    "    if modify_var and modify_coords and modify_values is not None:\n",
    "        if modify_var not in data.variables:\n",
    "            print(f\"Warning: Variable {modify_var} not found in dataset. Skipping modification.\")\n",
    "        else:\n",
    "            print(f\"\\nModifying {modify_var} at {len(modify_coords)} coordinates.\")\n",
    "            # Ensure modify_values matches the shape expected by modify_var\n",
    "            for (lat, lon), value in zip(modify_coords, modify_values):\n",
    "                try:\n",
    "                    data[modify_var].loc[dict(lat=lat, lon=lon)] = value\n",
    "                    print(f\"Set {modify_var} at (lat={lat}, lon={lon}) to {value}\")\n",
    "                except KeyError:\n",
    "                    print(f\"Coordinate (lat={lat}, lon={lon}) not found in dataset.\")\n",
    "    \n",
    "    # Write the state file\n",
    "    try:\n",
    "        if os.path.exists(file_path) and not overwrite:\n",
    "            raise FileExistsError(f\"File {file_path} exists. Set overwrite=True to replace it.\")\n",
    "        data.to_netcdf(file_path, mode='w')\n",
    "        print(f\"Successfully wrote VIC state file to {file_path}\")\n",
    "    except Exception as e:\n",
    "        print(f\"Error writing state file: {e}\")"
   ]
  },
  {
   "cell_type": "markdown",
   "id": "f89ffc7a-4a73-49c4-a881-ea33975f4ccb",
   "metadata": {},
   "source": [
    "## Read VIC state file"
   ]
  },
  {
   "cell_type": "code",
   "execution_count": 5,
   "id": "92b35e24-b24c-4aa1-b9e9-d6fb46a39fec",
   "metadata": {},
   "outputs": [
    {
     "name": "stdout",
     "output_type": "stream",
     "text": [
      "\n",
      "Reading VIC state file: ../../VIC/nmhydro-master/scripts/vic_classic_to_image/nm_image/outputs/state_20201231.nc\n",
      "Number of variables read: 28\n",
      "Number of unique lat/lon points: 48124\n",
      "Number of daily state timesteps: 1\n",
      "Variables in state file: ['time', 'lon', 'lat', 'veg_class', 'snow_band', 'layer', 'frost_area', 'dz_node', 'node_depth', 'STATE_SOIL_MOISTURE', 'STATE_SOIL_ICE', 'STATE_CANOPY_WATER', 'STATE_SNOW_AGE', 'STATE_SNOW_MELT_STATE', 'STATE_SNOW_COVERAGE', 'STATE_SNOW_WATER_EQUIVALENT', 'STATE_SNOW_SURF_TEMP', 'STATE_SNOW_SURF_WATER', 'STATE_SNOW_PACK_TEMP', 'STATE_SNOW_PACK_WATER', 'STATE_SNOW_DENSITY', 'STATE_SNOW_COLD_CONTENT', 'STATE_SNOW_CANOPY', 'STATE_SOIL_NODE_TEMP', 'STATE_FOLIAGE_TEMPERATURE', 'STATE_ENERGY_LONGUNDEROUT', 'STATE_ENERGY_SNOW_FLUX', 'STATE_AVG_ALBEDO']\n"
     ]
    }
   ],
   "source": [
    "vic_state = read_vic_state(global_param_file=global_param_file) # this reqruired me to rename the vic state file from 'state.20201231_00000.nc to 'state_20201231.nc'"
   ]
  },
  {
   "cell_type": "markdown",
   "id": "845b26a2-a7fb-42d6-8696-58d0bfcbf590",
   "metadata": {},
   "source": [
    "## Plot State Variables"
   ]
  },
  {
   "cell_type": "code",
   "execution_count": 8,
   "id": "dae82f01-4d5f-4e3c-826d-ee02c0d9459b",
   "metadata": {},
   "outputs": [
    {
     "name": "stdin",
     "output_type": "stream",
     "text": [
      "Enter state variable names to plot (comma-separated, e.g., 'STATE_SOIL_MOISTURE'):  STATE_SOIL_MOISTURE\n"
     ]
    },
    {
     "name": "stdout",
     "output_type": "stream",
     "text": [
      "\n",
      "Variable: STATE_SOIL_MOISTURE\n",
      "Shape: (11, 1, 3, 227, 212)\n",
      "Dimensions: ('veg_class', 'snow_band', 'nlayer', 'lat', 'lon')\n",
      "Stats for STATE_SOIL_MOISTURE (full data, mm):\n",
      "Stats for STATE_SOIL_MOISTURE (full data):\n",
      "Mean: 237.85 mm\n",
      "Median: 238.84 mm\n",
      "Min: 10.52 mm\n",
      "Max: 948.81 mm\n",
      "Standard Deviation: 193.14 mm\n",
      "25th percentile: 27.23\n",
      "50th percentile: 238.84\n",
      "75th percentile: 366.82\n",
      "90th percentile: 502.05\n"
     ]
    },
    {
     "data": {
      "image/png": "[encoded data removed]",
      "text/plain": [
       "<Figure size 1000x800 with 2 Axes>"
      ]
     },
     "metadata": {},
     "output_type": "display_data"
    }
   ],
   "source": [
    "# Prompt user for variable names\n",
    "var_input = input(\"Enter state variable names to plot (comma-separated, e.g., 'STATE_SOIL_MOISTURE'): \")\n",
    "var_names = [v.strip() for v in var_input.split(',') if v.strip() in vic_state.variables]\n",
    "\n",
    "if not var_names:\n",
    "    print(\"No valid variable names provided or found in the dataset.\")\n",
    "else:\n",
    "    for var_name in var_names:\n",
    "        data = vic_state[var_name]\n",
    "        \n",
    "        # Print data shape and dimensions for debugging\n",
    "        print(f\"\\nVariable: {var_name}\")\n",
    "        print(f\"Shape: {data.shape}\")\n",
    "        print(f\"Dimensions: {data.dims}\")\n",
    "        \n",
    "        # Select a 2D slice for plotting\n",
    "        if len(data.dims) > 2:\n",
    "            if var_name == 'STATE_SOIL_MOISTURE':\n",
    "                data_2d = data.isel(veg_class=0, snow_band=0, nlayer=0)  # First veg class, snow band, layer\n",
    "            else:\n",
    "                if 'time' in data.dims:\n",
    "                    data_2d = data.isel(time=0)\n",
    "                elif 'veg_class' in data.dims:\n",
    "                    data_2d = data_2d.isel(veg_class=0)\n",
    "                if 'snow_band' in data.dims:\n",
    "                    data_2d = data_2d.isel(snow_band=0)\n",
    "                if 'nlayer' in data.dims or 'layer' in data.dims:\n",
    "                    data_2d = data_2d.isel(nlayer=0 if 'nlayer' in data.dims else 'layer')\n",
    "            data_2d = data_2d.squeeze()\n",
    "        else:\n",
    "            data_2d = data\n",
    "        \n",
    "        # calculate stats and quantiles on the full data\n",
    "        mean_val = float(data.mean().values)\n",
    "        median_val = float(data.median().values)\n",
    "        min_val = float(data.min().values)\n",
    "        max_val = float(data.max().values)\n",
    "        std_val = float(data.std().values)\n",
    "        quantiles = data.quantile([0.25, 0.50, 0.75, 0.90]).values\n",
    "        min_val = float(data.min().values)\n",
    "        max_val = float(data.max().values)\n",
    "        \n",
    "        # Print stats (quantiles only)\n",
    "        print(f\"Stats for {var_name} (full data, {data.units}):\")\n",
    "        print(f\"Stats for {var_name} (full data):\")\n",
    "        print(f\"Mean: {mean_val:.2f} {data.units}\")\n",
    "        print(f\"Median: {median_val:.2f} {data.units}\")\n",
    "        print(f\"Min: {min_val:.2f} {data.units}\")\n",
    "        print(f\"Max: {max_val:.2f} {data.units}\")\n",
    "        print(f\"Standard Deviation: {std_val:.2f} {data.units}\")\n",
    "        \n",
    "        print(f\"25th percentile: {quantiles[0]:.2f}\")\n",
    "        print(f\"50th percentile: {quantiles[1]:.2f}\")\n",
    "        print(f\"75th percentile: {quantiles[2]:.2f}\")\n",
    "        print(f\"90th percentile: {quantiles[3]:.2f}\")\n",
    "        \n",
    "        # Check for lat/lon coordinates and plot\n",
    "        if 'lat' in data_2d.coords and 'lon' in data_2d.coords:\n",
    "            # Create GIS-style plot with quantile-based colormap\n",
    "            plt.figure(figsize=(10, 8))\n",
    "            lon, lat = np.meshgrid(data_2d['lon'], data_2d['lat'])\n",
    "            \n",
    "            # Define quantile boundaries for colormap\n",
    "            from matplotlib.colors import BoundaryNorm\n",
    "            levels = [min_val] + quantiles.tolist() + [max_val]  # Include min/max with quantiles\n",
    "            norm = BoundaryNorm(levels, ncolors=256, clip=True)\n",
    "            \n",
    "            plt.pcolormesh(lon, lat, data_2d, cmap='viridis', norm=norm)\n",
    "            plt.colorbar(label=f\"{var_name} ({data.units})\")\n",
    "            plt.title(f\"{var_name} Spatial Distribution (Veg=0, SnowBand=0, Layer=0)\")\n",
    "            plt.xlabel(\"Longitude\")\n",
    "            plt.ylabel(\"Latitude\")\n",
    "            plt.show()\n",
    "        else:\n",
    "            print(f\"Cannot create GIS plot for {var_name}: 'lat' and 'lon' coordinates not found in 2D slice.\")"
   ]
  },
  {
   "cell_type": "code",
   "execution_count": null,
   "id": "82eca4f7-5b16-440b-a303-8d709ff1e5a4",
   "metadata": {},
   "outputs": [],
   "source": []
  }
 ],
 "metadata": {
  "kernelspec": {
   "display_name": "Python 3 (ipykernel)",
   "language": "python",
   "name": "python3"
  },
  "language_info": {
   "codemirror_mode": {
    "name": "ipython",
    "version": 3
   },
   "file_extension": ".py",
   "mimetype": "text/x-python",
   "name": "python",
   "nbconvert_exporter": "python",
   "pygments_lexer": "ipython3",
   "version": "3.12.8"
  }
 },
 "nbformat": 4,
 "nbformat_minor": 5
}
